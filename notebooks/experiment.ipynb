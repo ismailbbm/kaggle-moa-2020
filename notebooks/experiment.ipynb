{
 "cells": [
  {
   "cell_type": "code",
   "execution_count": 50,
   "metadata": {},
   "outputs": [
    {
     "name": "stdout",
     "output_type": "stream",
     "text": [
      "The autoreload extension is already loaded. To reload it, use:\n",
      "  %reload_ext autoreload\n"
     ]
    }
   ],
   "source": [
    "# OPTIONAL: Load the \"autoreload\" extension so that code can change\n",
    "%load_ext autoreload\n",
    "\n",
    "# OPTIONAL: always reload modules so that as you change code in src, it gets loaded\n",
    "%autoreload 2\n",
    "\n",
    "# some_file.py\n",
    "import sys\n",
    "# insert at 1, 0 is the script path (or '' in REPL)\n",
    "sys.path.insert(1, '../src')\n",
    "\n",
    "from utils import seed_everything, read_yaml_conf, write_yaml_conf, ROOT_DIR\n",
    "from data.data_prep_main import prepareData\n",
    "from model.train_main import train_model\n",
    "from model.evaluate import evaluate_nn_model_list, save_config_score"
   ]
  },
  {
   "cell_type": "code",
   "execution_count": 28,
   "metadata": {},
   "outputs": [],
   "source": [
    "import torch\n",
    "import multiprocessing"
   ]
  },
  {
   "cell_type": "markdown",
   "metadata": {},
   "source": [
    "# Parameters"
   ]
  },
  {
   "cell_type": "code",
   "execution_count": 34,
   "metadata": {},
   "outputs": [],
   "source": [
    "#Experiment name\n",
    "experiment = '1'"
   ]
  },
  {
   "cell_type": "code",
   "execution_count": 29,
   "metadata": {},
   "outputs": [],
   "source": [
    "#Device data\n",
    "device = torch.device('cuda' if torch.cuda.is_available() else 'cpu')\n",
    "cpu = multiprocessing.cpu_count()"
   ]
  },
  {
   "cell_type": "code",
   "execution_count": 54,
   "metadata": {},
   "outputs": [],
   "source": [
    "#From conf file\n",
    "conf = read_yaml_conf('../src/conf.yaml')\n",
    "\n",
    "path_data = conf['paths']['path_data']\n",
    "path_output = conf['paths']['path_output']\n",
    "path_model = conf['paths']['path_model']\n",
    "\n",
    "normalization_type = conf['paths']['path_data']\n",
    "use_train_test_for_norm = conf['paths']['path_data']\n",
    "\n",
    "#KDE features\n",
    "add_kernels = conf['features']['add_kernels']\n",
    "use_log_for_kernel_diff = conf['features']['use_log_for_kernel_diff']\n",
    "inverse_kde = conf['features']['inverse_kde']\n",
    "ratio_inverse_kde = conf['features']['ratio_inverse_kde']\n",
    "use_diff_kde = conf['features']['use_diff_kde']\n",
    "exclude_c_from_kde = conf['features']['exclude_c_from_kde']\n",
    "exclude_g_from_kde = conf['features']['exclude_g_from_kde']\n",
    "\n",
    "#Dimension reduction\n",
    "g_removal_count = conf['features']['g_removal_count']\n",
    "perform_pca = conf['features']['perform_pca']\n",
    "pca_for_c = conf['features']['pca_for_c']\n",
    "pca_for_kde = conf['features']['pca_for_kde']\n",
    "\n",
    "add_c_stats = conf['features']['add_c_stats']\n",
    "\n",
    "\n",
    "#Oversampling\n",
    "augment_data = conf['augmentation']['augment_data']\n",
    "additional = conf['augmentation']['additional']\n",
    "granularity = conf['augmentation']['granularity']\n",
    "max_dev = conf['augmentation']['max_dev']\n",
    "normal_std_dev = conf['augmentation']['normal_std_dev']\n",
    "\n",
    "#Add control data\n",
    "control_share_in_train = conf['augmentation']['control_share_in_train']\n",
    "add_control_from_test = conf['augmentation']['add_control_from_test']\n",
    "\n",
    "\n",
    "\n",
    "#Holdout\n",
    "validation_ratio = conf['model']['validation_ratio']\n",
    "\n",
    "#Cross validation \n",
    "folds = conf['model']['folds']\n",
    "fold_type = conf['model']['fold_type']\n",
    "oof_type = conf['model']['oof_type']\n",
    "oof_threshold = conf['model']['oof_threshold']\n",
    "\n",
    "n_seeds = conf['model']['n_seeds']\n",
    "\n",
    "label_smoothing = conf['model']['label_smoothing']\n",
    "oof_loss_limit = conf['model']['oof_loss_limit']\n",
    "nn_architecture = conf['model']['nn_architecture']\n",
    "\n",
    "\n",
    "model_nonscored = conf['post_processing']['model_nonscored']"
   ]
  },
  {
   "cell_type": "markdown",
   "metadata": {},
   "source": [
    "# Run"
   ]
  },
  {
   "cell_type": "code",
   "execution_count": 31,
   "metadata": {},
   "outputs": [
    {
     "name": "stdout",
     "output_type": "stream",
     "text": [
      "import data\n",
      "transform cat features\n",
      "kde kernels calculations\n",
      "remove g columns with low variation\n",
      "kde features\n",
      "normalize features\n"
     ]
    }
   ],
   "source": [
    "prepared_data = prepareData(path_data,validation_ratio=validation_ratio,folds=folds, cpu=cpu, normalization_type=normalization_type,\n",
    "                            g_removal_count=g_removal_count,exclude_c_from_kde=exclude_c_from_kde,exclude_g_from_kde=exclude_g_from_kde,add_c_stats=add_c_stats,\n",
    "                            add_kernels=add_kernels, use_diff_kde=use_diff_kde, use_train_test_for_norm=use_train_test_for_norm,\n",
    "                            perform_pca=perform_pca, pca_variance_threshold=0.95,pca_for_kde=pca_for_kde,pca_for_c=pca_for_c,\n",
    "                            use_log_for_kernel_diff=use_log_for_kernel_diff, inverse_kde=inverse_kde, ratio_inverse_kde=ratio_inverse_kde,\n",
    "                            granularity=granularity,max_dev=max_dev,normal_std_dev=normal_std_dev,additional=additional\n",
    "                            )"
   ]
  },
  {
   "cell_type": "code",
   "execution_count": 35,
   "metadata": {},
   "outputs": [
    {
     "name": "stdout",
     "output_type": "stream",
     "text": [
      "\n",
      "\n",
      "START WITH SEED: 0\n",
      "Start training fold 1 of 3\n",
      "Add 0 control to training set, representing 0% of vehicle size\n",
      "Epoch 1/1 \t train loss: 0.02197 \t val loss: 0.01925 \t time: 34s \t lr: 0.002507 \t \n",
      "Start training fold 2 of 3\n",
      "Add 0 control to training set, representing 0% of vehicle size\n",
      "Epoch 1/1 \t train loss: 0.02199 \t val loss: 0.01944 \t time: 34s \t lr: 0.002507 \t \n",
      "Start training fold 3 of 3\n",
      "Add 0 control to training set, representing 0% of vehicle size\n",
      "Epoch 1/1 \t train loss: 0.02179 \t val loss: 0.01907 \t time: 40s \t lr: 0.002507 \t \n",
      "Saving models\n"
     ]
    }
   ],
   "source": [
    "nn_model_list = train_model(prepared_data, conf, ROOT_DIR+'/models/experiment_'+experiment+'_')"
   ]
  },
  {
   "cell_type": "code",
   "execution_count": 39,
   "metadata": {},
   "outputs": [
    {
     "name": "stdout",
     "output_type": "stream",
     "text": [
      "oof: 0.017834 \t oof post: 0.017560 \t oof ls: 0.017422 \t oof excl: 0.017422 \t holdout: 0.018051 \t holdout post: 0.017768 \t holdout ls: 0.017588 \t holdout excl: 0.017588\n"
     ]
    }
   ],
   "source": [
    "results_mean = evaluate_nn_model_list(prepared_data, nn_model_list,ls_floor=1e-5,ls_ceil=1e-5,activation_threshold=0.3,floor=1e-7)"
   ]
  },
  {
   "cell_type": "code",
   "execution_count": 60,
   "metadata": {},
   "outputs": [],
   "source": [
    "save_config_score(conf, results_mean, ROOT_DIR + '/models/conf_experiement_'+experiment+'.yaml')"
   ]
  },
  {
   "cell_type": "code",
   "execution_count": null,
   "metadata": {},
   "outputs": [],
   "source": []
  }
 ],
 "metadata": {
  "kernelspec": {
   "display_name": "Python 3",
   "language": "python",
   "name": "python3"
  },
  "language_info": {
   "codemirror_mode": {
    "name": "ipython",
    "version": 3
   },
   "file_extension": ".py",
   "mimetype": "text/x-python",
   "name": "python",
   "nbconvert_exporter": "python",
   "pygments_lexer": "ipython3",
   "version": "3.7.1"
  }
 },
 "nbformat": 4,
 "nbformat_minor": 4
}
